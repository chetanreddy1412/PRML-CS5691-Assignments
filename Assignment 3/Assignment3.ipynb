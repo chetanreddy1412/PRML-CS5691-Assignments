{
 "cells": [
  {
   "cell_type": "code",
   "execution_count": 1,
   "metadata": {
    "colab": {
     "base_uri": "https://localhost:8080/"
    },
    "id": "MSTrCG6kWXCy",
    "outputId": "f8ba075f-b2ab-442a-aa41-62c535d74710"
   },
   "outputs": [
    {
     "name": "stdout",
     "output_type": "stream",
     "text": [
      "Requirement already satisfied: striprtf in /Users/chetan/opt/anaconda3/lib/python3.7/site-packages (0.0.20)\r\n"
     ]
    }
   ],
   "source": [
    "!pip install striprtf;"
   ]
  },
  {
   "cell_type": "code",
   "execution_count": 2,
   "metadata": {
    "colab": {
     "base_uri": "https://localhost:8080/"
    },
    "id": "9muxOiKnVVoq",
    "outputId": "863e9104-3298-438e-abf0-a9c719147836"
   },
   "outputs": [
    {
     "name": "stderr",
     "output_type": "stream",
     "text": [
      "[nltk_data] Downloading package wordnet to /Users/chetan/nltk_data...\n",
      "[nltk_data]   Unzipping corpora/wordnet.zip.\n"
     ]
    }
   ],
   "source": [
    "import pandas as pd\n",
    "import numpy as np\n",
    "import matplotlib.pyplot as plt\n",
    "from striprtf.striprtf import rtf_to_text\n",
    "from nltk.corpus import stopwords\n",
    "import nltk\n",
    "from nltk.stem import WordNetLemmatizer\n",
    "from sklearn.model_selection import train_test_split\n",
    "from sklearn.feature_extraction.text import TfidfVectorizer\n",
    "import seaborn as sns\n",
    "import re \n",
    "from sklearn.feature_extraction.text import CountVectorizer\n",
    "import warnings\n",
    "\n",
    "nltk.download('wordnet')\n",
    "warnings.filterwarnings(\"ignore\")\n",
    "np.set_printoptions(suppress=True) "
   ]
  },
  {
   "cell_type": "markdown",
   "metadata": {
    "id": "ykfQS2McW8rS"
   },
   "source": [
    "# **Data and Auxiliary Data Loading**"
   ]
  },
  {
   "cell_type": "code",
   "execution_count": 3,
   "metadata": {
    "colab": {
     "base_uri": "https://localhost:8080/",
     "height": 424
    },
    "id": "GqE7HsSQ6FtR",
    "outputId": "72fd5fbb-35a5-416f-dccc-de8ac7029901"
   },
   "outputs": [
    {
     "data": {
      "text/html": [
       "<div>\n",
       "<style scoped>\n",
       "    .dataframe tbody tr th:only-of-type {\n",
       "        vertical-align: middle;\n",
       "    }\n",
       "\n",
       "    .dataframe tbody tr th {\n",
       "        vertical-align: top;\n",
       "    }\n",
       "\n",
       "    .dataframe thead th {\n",
       "        text-align: right;\n",
       "    }\n",
       "</style>\n",
       "<table border=\"1\" class=\"dataframe\">\n",
       "  <thead>\n",
       "    <tr style=\"text-align: right;\">\n",
       "      <th></th>\n",
       "      <th>Category</th>\n",
       "      <th>Message</th>\n",
       "    </tr>\n",
       "  </thead>\n",
       "  <tbody>\n",
       "    <tr>\n",
       "      <th>0</th>\n",
       "      <td>ham</td>\n",
       "      <td>Go until jurong point, crazy.. Available only ...</td>\n",
       "    </tr>\n",
       "    <tr>\n",
       "      <th>1</th>\n",
       "      <td>ham</td>\n",
       "      <td>Ok lar... Joking wif u oni...</td>\n",
       "    </tr>\n",
       "    <tr>\n",
       "      <th>2</th>\n",
       "      <td>spam</td>\n",
       "      <td>Free entry in 2 a wkly comp to win FA Cup fina...</td>\n",
       "    </tr>\n",
       "    <tr>\n",
       "      <th>3</th>\n",
       "      <td>ham</td>\n",
       "      <td>U dun say so early hor... U c already then say...</td>\n",
       "    </tr>\n",
       "    <tr>\n",
       "      <th>4</th>\n",
       "      <td>ham</td>\n",
       "      <td>Nah I don't think he goes to usf, he lives aro...</td>\n",
       "    </tr>\n",
       "    <tr>\n",
       "      <th>...</th>\n",
       "      <td>...</td>\n",
       "      <td>...</td>\n",
       "    </tr>\n",
       "    <tr>\n",
       "      <th>5582</th>\n",
       "      <td>spam</td>\n",
       "      <td>This is the 2nd time we have tried 2 contact u...</td>\n",
       "    </tr>\n",
       "    <tr>\n",
       "      <th>5583</th>\n",
       "      <td>ham</td>\n",
       "      <td>Will ü b going to esplanade fr home?</td>\n",
       "    </tr>\n",
       "    <tr>\n",
       "      <th>5584</th>\n",
       "      <td>ham</td>\n",
       "      <td>Pity, * was in mood for that. So...any other s...</td>\n",
       "    </tr>\n",
       "    <tr>\n",
       "      <th>5585</th>\n",
       "      <td>ham</td>\n",
       "      <td>The guy did some bitching but I acted like i'd...</td>\n",
       "    </tr>\n",
       "    <tr>\n",
       "      <th>5586</th>\n",
       "      <td>ham</td>\n",
       "      <td>Rofl. Its true to its name</td>\n",
       "    </tr>\n",
       "  </tbody>\n",
       "</table>\n",
       "<p>5587 rows × 2 columns</p>\n",
       "</div>"
      ],
      "text/plain": [
       "     Category                                            Message\n",
       "0         ham  Go until jurong point, crazy.. Available only ...\n",
       "1         ham                      Ok lar... Joking wif u oni...\n",
       "2        spam  Free entry in 2 a wkly comp to win FA Cup fina...\n",
       "3         ham  U dun say so early hor... U c already then say...\n",
       "4         ham  Nah I don't think he goes to usf, he lives aro...\n",
       "...       ...                                                ...\n",
       "5582     spam  This is the 2nd time we have tried 2 contact u...\n",
       "5583      ham               Will ü b going to esplanade fr home?\n",
       "5584      ham  Pity, * was in mood for that. So...any other s...\n",
       "5585      ham  The guy did some bitching but I acted like i'd...\n",
       "5586      ham                         Rofl. Its true to its name\n",
       "\n",
       "[5587 rows x 2 columns]"
      ]
     },
     "execution_count": 3,
     "metadata": {},
     "output_type": "execute_result"
    }
   ],
   "source": [
    "df = pd.read_csv(\"final_dataset.csv\")\n",
    "df"
   ]
  },
  {
   "cell_type": "code",
   "execution_count": 4,
   "metadata": {
    "colab": {
     "base_uri": "https://localhost:8080/",
     "height": 424
    },
    "id": "vAdUR19nwbn3",
    "outputId": "1a2ce6ff-cd69-4f37-c5e0-6f4d23be1f08"
   },
   "outputs": [
    {
     "data": {
      "text/html": [
       "<div>\n",
       "<style scoped>\n",
       "    .dataframe tbody tr th:only-of-type {\n",
       "        vertical-align: middle;\n",
       "    }\n",
       "\n",
       "    .dataframe tbody tr th {\n",
       "        vertical-align: top;\n",
       "    }\n",
       "\n",
       "    .dataframe thead th {\n",
       "        text-align: right;\n",
       "    }\n",
       "</style>\n",
       "<table border=\"1\" class=\"dataframe\">\n",
       "  <thead>\n",
       "    <tr style=\"text-align: right;\">\n",
       "      <th></th>\n",
       "      <th>category</th>\n",
       "      <th>content</th>\n",
       "    </tr>\n",
       "  </thead>\n",
       "  <tbody>\n",
       "    <tr>\n",
       "      <th>0</th>\n",
       "      <td>0</td>\n",
       "      <td>Go until jurong point, crazy.. Available only ...</td>\n",
       "    </tr>\n",
       "    <tr>\n",
       "      <th>1</th>\n",
       "      <td>0</td>\n",
       "      <td>Ok lar... Joking wif u oni...</td>\n",
       "    </tr>\n",
       "    <tr>\n",
       "      <th>2</th>\n",
       "      <td>1</td>\n",
       "      <td>Free entry in 2 a wkly comp to win FA Cup fina...</td>\n",
       "    </tr>\n",
       "    <tr>\n",
       "      <th>3</th>\n",
       "      <td>0</td>\n",
       "      <td>U dun say so early hor... U c already then say...</td>\n",
       "    </tr>\n",
       "    <tr>\n",
       "      <th>4</th>\n",
       "      <td>0</td>\n",
       "      <td>Nah I don't think he goes to usf, he lives aro...</td>\n",
       "    </tr>\n",
       "    <tr>\n",
       "      <th>...</th>\n",
       "      <td>...</td>\n",
       "      <td>...</td>\n",
       "    </tr>\n",
       "    <tr>\n",
       "      <th>5582</th>\n",
       "      <td>1</td>\n",
       "      <td>This is the 2nd time we have tried 2 contact u...</td>\n",
       "    </tr>\n",
       "    <tr>\n",
       "      <th>5583</th>\n",
       "      <td>0</td>\n",
       "      <td>Will ü b going to esplanade fr home?</td>\n",
       "    </tr>\n",
       "    <tr>\n",
       "      <th>5584</th>\n",
       "      <td>0</td>\n",
       "      <td>Pity, * was in mood for that. So...any other s...</td>\n",
       "    </tr>\n",
       "    <tr>\n",
       "      <th>5585</th>\n",
       "      <td>0</td>\n",
       "      <td>The guy did some bitching but I acted like i'd...</td>\n",
       "    </tr>\n",
       "    <tr>\n",
       "      <th>5586</th>\n",
       "      <td>0</td>\n",
       "      <td>Rofl. Its true to its name</td>\n",
       "    </tr>\n",
       "  </tbody>\n",
       "</table>\n",
       "<p>5587 rows × 2 columns</p>\n",
       "</div>"
      ],
      "text/plain": [
       "      category                                            content\n",
       "0            0  Go until jurong point, crazy.. Available only ...\n",
       "1            0                      Ok lar... Joking wif u oni...\n",
       "2            1  Free entry in 2 a wkly comp to win FA Cup fina...\n",
       "3            0  U dun say so early hor... U c already then say...\n",
       "4            0  Nah I don't think he goes to usf, he lives aro...\n",
       "...        ...                                                ...\n",
       "5582         1  This is the 2nd time we have tried 2 contact u...\n",
       "5583         0               Will ü b going to esplanade fr home?\n",
       "5584         0  Pity, * was in mood for that. So...any other s...\n",
       "5585         0  The guy did some bitching but I acted like i'd...\n",
       "5586         0                         Rofl. Its true to its name\n",
       "\n",
       "[5587 rows x 2 columns]"
      ]
     },
     "execution_count": 4,
     "metadata": {},
     "output_type": "execute_result"
    }
   ],
   "source": [
    "#For sms dataset\n",
    "df = df.rename(columns={\"Message\":\"content\",\"Category\":\"category\"})\n",
    "df.category = (df.category == 'spam').astype(\"int\")\n",
    "df\n"
   ]
  },
  {
   "cell_type": "markdown",
   "metadata": {
    "id": "gvBCre9BDpGh"
   },
   "source": [
    "### **Downloading Stopwords and Contractions**"
   ]
  },
  {
   "cell_type": "code",
   "execution_count": 5,
   "metadata": {
    "colab": {
     "base_uri": "https://localhost:8080/"
    },
    "id": "NZp4tntMW61D",
    "outputId": "a3d2f784-8b3a-4661-c72a-349a107615ab"
   },
   "outputs": [
    {
     "name": "stderr",
     "output_type": "stream",
     "text": [
      "[nltk_data] Downloading package stopwords to\n",
      "[nltk_data]     /Users/chetan/nltk_data...\n",
      "[nltk_data]   Unzipping corpora/stopwords.zip.\n"
     ]
    }
   ],
   "source": [
    "nltk.download('stopwords')\n",
    "stopwords_list = stopwords.words('english')"
   ]
  },
  {
   "cell_type": "code",
   "execution_count": 6,
   "metadata": {
    "colab": {
     "base_uri": "https://localhost:8080/",
     "height": 424
    },
    "id": "ROGIfwAVXnQH",
    "outputId": "f4ba1f6c-744d-4f72-e5db-318be64c4b7f"
   },
   "outputs": [
    {
     "data": {
      "text/html": [
       "<div>\n",
       "<style scoped>\n",
       "    .dataframe tbody tr th:only-of-type {\n",
       "        vertical-align: middle;\n",
       "    }\n",
       "\n",
       "    .dataframe tbody tr th {\n",
       "        vertical-align: top;\n",
       "    }\n",
       "\n",
       "    .dataframe thead th {\n",
       "        text-align: right;\n",
       "    }\n",
       "</style>\n",
       "<table border=\"1\" class=\"dataframe\">\n",
       "  <thead>\n",
       "    <tr style=\"text-align: right;\">\n",
       "      <th></th>\n",
       "      <th>Contraction</th>\n",
       "      <th>Meaning</th>\n",
       "    </tr>\n",
       "  </thead>\n",
       "  <tbody>\n",
       "    <tr>\n",
       "      <th>0</th>\n",
       "      <td>'aight</td>\n",
       "      <td>alright</td>\n",
       "    </tr>\n",
       "    <tr>\n",
       "      <th>1</th>\n",
       "      <td>ain't</td>\n",
       "      <td>is not</td>\n",
       "    </tr>\n",
       "    <tr>\n",
       "      <th>2</th>\n",
       "      <td>amn't</td>\n",
       "      <td>am not</td>\n",
       "    </tr>\n",
       "    <tr>\n",
       "      <th>3</th>\n",
       "      <td>aren't</td>\n",
       "      <td>are not</td>\n",
       "    </tr>\n",
       "    <tr>\n",
       "      <th>4</th>\n",
       "      <td>can't</td>\n",
       "      <td>cannot</td>\n",
       "    </tr>\n",
       "    <tr>\n",
       "      <th>...</th>\n",
       "      <td>...</td>\n",
       "      <td>...</td>\n",
       "    </tr>\n",
       "    <tr>\n",
       "      <th>143</th>\n",
       "      <td>y'all're</td>\n",
       "      <td>you all are</td>\n",
       "    </tr>\n",
       "    <tr>\n",
       "      <th>144</th>\n",
       "      <td>you'd</td>\n",
       "      <td>you would</td>\n",
       "    </tr>\n",
       "    <tr>\n",
       "      <th>145</th>\n",
       "      <td>you'll</td>\n",
       "      <td>you will</td>\n",
       "    </tr>\n",
       "    <tr>\n",
       "      <th>146</th>\n",
       "      <td>you're</td>\n",
       "      <td>you are</td>\n",
       "    </tr>\n",
       "    <tr>\n",
       "      <th>147</th>\n",
       "      <td>you've</td>\n",
       "      <td>you have</td>\n",
       "    </tr>\n",
       "  </tbody>\n",
       "</table>\n",
       "<p>148 rows × 2 columns</p>\n",
       "</div>"
      ],
      "text/plain": [
       "    Contraction       Meaning\n",
       "0        'aight       alright\n",
       "1         ain't        is not\n",
       "2         amn't        am not\n",
       "3        aren't       are not\n",
       "4         can't        cannot\n",
       "..          ...           ...\n",
       "143    y'all're  you all are \n",
       "144       you'd     you would\n",
       "145      you'll      you will\n",
       "146      you're       you are\n",
       "147      you've      you have\n",
       "\n",
       "[148 rows x 2 columns]"
      ]
     },
     "execution_count": 6,
     "metadata": {},
     "output_type": "execute_result"
    }
   ],
   "source": [
    "contractions_df = pd.read_csv('english_contractions.csv')\n",
    "contractions_list = contractions_df.Contraction.values\n",
    "\n",
    "#converting all the contractions to lower case\n",
    "contractions_list = list(map(lambda word:word.lower(),contractions_list))\n",
    "contractions_df"
   ]
  },
  {
   "cell_type": "code",
   "execution_count": 7,
   "metadata": {
    "colab": {
     "base_uri": "https://localhost:8080/"
    },
    "id": "ZElGfiYgXv-L",
    "outputId": "ea320212-f273-46e9-daaa-ea04a79d726c"
   },
   "outputs": [
    {
     "name": "stdout",
     "output_type": "stream",
     "text": [
      "Number of Spam Mails:  774\n",
      "Number of Ham Mails:  4813\n"
     ]
    }
   ],
   "source": [
    "print('Number of Spam Mails: ', (df.category==1).sum())\n",
    "print('Number of Ham Mails: ',(df.category==0).sum())"
   ]
  },
  {
   "cell_type": "markdown",
   "metadata": {
    "id": "8Fwe8Q1bWHcA"
   },
   "source": [
    "# **Feature Extraction**"
   ]
  },
  {
   "cell_type": "code",
   "execution_count": 8,
   "metadata": {
    "id": "_jWJXVF4iBUW"
   },
   "outputs": [],
   "source": [
    "def get_num_of_occurences(df,word_list):\n",
    "    frequency_spam = {k:0 for k in word_list}#used to get the most frequently used contractions\n",
    "    frequency_ham  = {k:0 for k in word_list}\n",
    "\n",
    "    def get_number_of_words(content,words_list,category):\n",
    "\n",
    "        content_split = content.lower().split()\n",
    "        n_words = 0\n",
    "        for word in content_split:\n",
    "            if word in words_list:\n",
    "                n_words +=1\n",
    "                if category ==1:\n",
    "                    frequency_spam[word]+=1\n",
    "                if category ==0:\n",
    "                    frequency_ham[word]+=1\n",
    "\n",
    "        return n_words\n",
    "\n",
    "    number_of_occurences  = np.zeros(len(df),dtype = np.int8)\n",
    "\n",
    "    for i in range(len(df)):\n",
    "        content = df.iloc[i].content    \n",
    "        number_of_occurences[i] = get_number_of_words(content,word_list,df.iloc[i].content)\n",
    "\n",
    "    return number_of_occurences,frequency_spam,frequency_ham\n",
    "\n",
    "def print_most_common(freq):\n",
    "    freq = sorted(freq.items(),key = lambda x: x[1],reverse=True)\n",
    "\n",
    "    for i in range(len(freq)):\n",
    "        word = freq[i][0]\n",
    "        f = freq[i][1]\n",
    "\n",
    "        if i>10 or f==0:\n",
    "            break\n",
    "        else:\n",
    "            print(\"{:7} : {}\".format(word,f))\n",
    "            "
   ]
  },
  {
   "cell_type": "code",
   "execution_count": 9,
   "metadata": {
    "id": "ls9btRu9pXsU"
   },
   "outputs": [],
   "source": [
    "def to_lower(sentence):\n",
    "    return sentence.lower()\n",
    "\n",
    "#f in the function name denotes indicates that it is a function\n",
    "def remove_stopwords_f(sentence):\n",
    "    sentence_split = sentence.lower().split()\n",
    "    new_sentence = []\n",
    "    for word in sentence_split:\n",
    "        if word not in stopwords_list:\n",
    "            new_sentence.append(word)\n",
    "    return \" \".join(new_sentence)\n",
    "\n",
    "def remove_contractions_f(sentence):\n",
    "    sentence_split = sentence.lower().split()\n",
    "    new_sentence = []\n",
    "    for word in sentence_split:\n",
    "        if word not in contractions_list:\n",
    "            new_sentence.append(word)\n",
    "    return \" \".join(new_sentence)\n",
    "\n",
    "def remove_numbers_f(sentence):\n",
    "    return re.sub('[0-9]+','',sentence)\n",
    "\n",
    "def remove_special_char_f(sentence):\n",
    "    return re.sub('[^a-zA-Z0-9\\s]','',sentence)"
   ]
  },
  {
   "cell_type": "code",
   "execution_count": 10,
   "metadata": {
    "id": "e4-_yk9WpmAa"
   },
   "outputs": [],
   "source": [
    "def get_word_list_and_count(df,ngram = 1,category=1,max_number=10,\n",
    "                            remove_stopwords=False,remove_numbers=False,remove_contractions=False):\n",
    "    \n",
    "    cv = CountVectorizer(max_features=max_number,ngram_range=(ngram,ngram))\n",
    "\n",
    "    #getting the required content in the required form\n",
    "    content_series = df[df.category==category].content\n",
    "    if remove_stopwords:\n",
    "        content_series = content_series.apply(remove_stopwords_f)\n",
    "\n",
    "    if remove_contractions:\n",
    "        content_series = content_series.apply(remove_contractions_f)\n",
    "\n",
    "    if remove_numbers:\n",
    "        content_series = content_series.apply(remove_numbers_f)\n",
    "\n",
    "    content_vectorised = cv.fit_transform(content_series).toarray()\n",
    "    word_list = cv.get_feature_names()\n",
    "    word_count = content_vectorised.sum(axis=0)\n",
    "    word_count_dict = dict(zip(word_list,word_count))\n",
    "    \n",
    "    return pd.Series(word_count_dict).sort_values(ascending =False)"
   ]
  },
  {
   "cell_type": "markdown",
   "metadata": {
    "id": "vNBC-IJXguKv"
   },
   "source": [
    "### **Number of Stopwords and Contractions**"
   ]
  },
  {
   "cell_type": "code",
   "execution_count": 11,
   "metadata": {
    "id": "8rDNqWWGk7ot"
   },
   "outputs": [],
   "source": [
    "def add_contractions_stopwords_stat(df):\n",
    "    df = df.copy()\n",
    "    \n",
    "    number_of_contractions_data = get_num_of_occurences(df,contractions_list)\n",
    "    number_of_stopwords_data = get_num_of_occurences(df,stopwords_list)\n",
    "\n",
    "    df['number_of_contractions'] = number_of_contractions_data[0]\n",
    "    df['number_of_stopwords'] = number_of_stopwords_data[0]\n",
    "    cache = {\"contractions\":number_of_contractions_data,\"stopwords\":number_of_stopwords_data}\n",
    "    return df"
   ]
  },
  {
   "cell_type": "markdown",
   "metadata": {
    "id": "PT0crYDkgpMK"
   },
   "source": [
    "### **Number of Numerical and Special Characters**"
   ]
  },
  {
   "cell_type": "code",
   "execution_count": 12,
   "metadata": {
    "id": "DWSQyt2gcm7i"
   },
   "outputs": [],
   "source": [
    "def add_specialchar_numericalchar_stat(df):\n",
    "    df = df.copy()\n",
    "    number_of_special_char  = np.zeros(len(df),dtype = np.int8)\n",
    "    number_of_numerical_char  = np.zeros(len(df),dtype = np.int8)\n",
    "\n",
    "    for i in range(len(df)):\n",
    "        content = df.iloc[i].content\n",
    "        number_of_special_char[i] = len(re.findall(r\"[^a-zA-Z0-9\\s',.]+\",content))\n",
    "        number_of_numerical_char[i] = len(re.findall(r'[0-9]+',content))\n",
    "\n",
    "    df['number_of_special_characters'] = number_of_special_char\n",
    "    df['number_of_numerical_characters'] = number_of_numerical_char\n",
    "\n",
    "    return df"
   ]
  },
  {
   "cell_type": "code",
   "execution_count": 13,
   "metadata": {
    "id": "0KsGkjYzYpvu"
   },
   "outputs": [],
   "source": [
    "df = add_contractions_stopwords_stat(df)\n",
    "df = add_specialchar_numericalchar_stat(df)"
   ]
  },
  {
   "cell_type": "code",
   "execution_count": 14,
   "metadata": {
    "colab": {
     "base_uri": "https://localhost:8080/",
     "height": 143
    },
    "id": "k03yZeHbHI62",
    "outputId": "ed701428-6d31-4f3d-e1a3-f6e68ffd798e"
   },
   "outputs": [
    {
     "data": {
      "text/html": [
       "<div>\n",
       "<style scoped>\n",
       "    .dataframe tbody tr th:only-of-type {\n",
       "        vertical-align: middle;\n",
       "    }\n",
       "\n",
       "    .dataframe tbody tr th {\n",
       "        vertical-align: top;\n",
       "    }\n",
       "\n",
       "    .dataframe thead th {\n",
       "        text-align: right;\n",
       "    }\n",
       "</style>\n",
       "<table border=\"1\" class=\"dataframe\">\n",
       "  <thead>\n",
       "    <tr style=\"text-align: right;\">\n",
       "      <th></th>\n",
       "      <th>number_of_contractions</th>\n",
       "      <th>number_of_stopwords</th>\n",
       "      <th>number_of_special_characters</th>\n",
       "      <th>number_of_numerical_characters</th>\n",
       "    </tr>\n",
       "    <tr>\n",
       "      <th>category</th>\n",
       "      <th></th>\n",
       "      <th></th>\n",
       "      <th></th>\n",
       "      <th></th>\n",
       "    </tr>\n",
       "  </thead>\n",
       "  <tbody>\n",
       "    <tr>\n",
       "      <th>0</th>\n",
       "      <td>0.312279</td>\n",
       "      <td>5.529192</td>\n",
       "      <td>1.023894</td>\n",
       "      <td>0.260544</td>\n",
       "    </tr>\n",
       "    <tr>\n",
       "      <th>1</th>\n",
       "      <td>0.072351</td>\n",
       "      <td>6.741602</td>\n",
       "      <td>3.208010</td>\n",
       "      <td>4.383721</td>\n",
       "    </tr>\n",
       "  </tbody>\n",
       "</table>\n",
       "</div>"
      ],
      "text/plain": [
       "          number_of_contractions  number_of_stopwords  \\\n",
       "category                                                \n",
       "0                       0.312279             5.529192   \n",
       "1                       0.072351             6.741602   \n",
       "\n",
       "          number_of_special_characters  number_of_numerical_characters  \n",
       "category                                                                \n",
       "0                             1.023894                        0.260544  \n",
       "1                             3.208010                        4.383721  "
      ]
     },
     "execution_count": 14,
     "metadata": {},
     "output_type": "execute_result"
    }
   ],
   "source": [
    "df.groupby(\"category\").mean()"
   ]
  },
  {
   "cell_type": "markdown",
   "metadata": {
    "id": "FA8nMBn9pMpK"
   },
   "source": [
    "### **N-Gram Analysis**"
   ]
  },
  {
   "cell_type": "markdown",
   "metadata": {
    "id": "-SEX00duth4M"
   },
   "source": [
    "#### **Spam**"
   ]
  },
  {
   "cell_type": "code",
   "execution_count": 15,
   "metadata": {
    "colab": {
     "base_uri": "https://localhost:8080/"
    },
    "id": "NSyDDr3IpO6X",
    "outputId": "3e183d83-9aeb-415b-a6eb-74a29c6c0572"
   },
   "outputs": [
    {
     "name": "stdout",
     "output_type": "stream",
     "text": [
      "Commonly used words in Spam Emails:\n"
     ]
    },
    {
     "data": {
      "text/plain": [
       "call      356\n",
       "free      228\n",
       "txt       163\n",
       "ur        144\n",
       "mobile    127\n",
       "text      125\n",
       "stop      121\n",
       "claim     115\n",
       "now       106\n",
       "reply     104\n",
       "dtype: int64"
      ]
     },
     "execution_count": 15,
     "metadata": {},
     "output_type": "execute_result"
    }
   ],
   "source": [
    "print('Commonly used words in Spam Emails:')\n",
    "get_word_list_and_count(df,ngram=1,category=1,max_number=10,remove_stopwords=True,remove_numbers=False)"
   ]
  },
  {
   "cell_type": "code",
   "execution_count": 16,
   "metadata": {
    "colab": {
     "base_uri": "https://localhost:8080/"
    },
    "id": "HGQd7D0TtGlA",
    "outputId": "8b21e83f-d0ee-4f50-f1a4-b871ce1af820"
   },
   "outputs": [
    {
     "name": "stdout",
     "output_type": "stream",
     "text": [
      "Commonly used bigrams in Spam Emails:\n"
     ]
    },
    {
     "data": {
      "text/plain": [
       "co uk               49\n",
       "please call         46\n",
       "po box              27\n",
       "1000 cash           23\n",
       "guaranteed call     23\n",
       "prize guaranteed    22\n",
       "national rate       20\n",
       "send stop           20\n",
       "await collection    19\n",
       "selected receive    19\n",
       "dtype: int64"
      ]
     },
     "execution_count": 16,
     "metadata": {},
     "output_type": "execute_result"
    }
   ],
   "source": [
    "print('Commonly used bigrams in Spam Emails:')\n",
    "get_word_list_and_count(df,ngram=2,category=1,max_number=10,remove_stopwords=True,remove_numbers=False)"
   ]
  },
  {
   "cell_type": "code",
   "execution_count": 17,
   "metadata": {
    "colab": {
     "base_uri": "https://localhost:8080/"
    },
    "id": "jA0B8_rAtLhR",
    "outputId": "d7149c97-a437-4387-bacf-e3e3110c5db6"
   },
   "outputs": [
    {
     "name": "stdout",
     "output_type": "stream",
     "text": [
      "Commonly used trigrams in Spam Emails:\n"
     ]
    },
    {
     "data": {
      "text/plain": [
       "you have won             50\n",
       "prize guaranteed call    21\n",
       "1000 cash or             19\n",
       "find out who             18\n",
       "from land line           18\n",
       "urgent your mobile       18\n",
       "account statement for    16\n",
       "to contact you           16\n",
       "valid 12hrs only         16\n",
       "suite342 2lands row      15\n",
       "dtype: int64"
      ]
     },
     "execution_count": 17,
     "metadata": {},
     "output_type": "execute_result"
    }
   ],
   "source": [
    "print('Commonly used trigrams in Spam Emails:')\n",
    "get_word_list_and_count(df,ngram=3,category=1,max_number=10,remove_stopwords=False,remove_numbers=False)"
   ]
  },
  {
   "cell_type": "markdown",
   "metadata": {
    "id": "V4-P3jpstRPs"
   },
   "source": [
    "####**Non-Spam** "
   ]
  },
  {
   "cell_type": "code",
   "execution_count": 18,
   "metadata": {
    "colab": {
     "base_uri": "https://localhost:8080/"
    },
    "id": "KNRUfOcptVWJ",
    "outputId": "fdd0551f-029d-4808-84a8-477956390b6a"
   },
   "outputs": [
    {
     "name": "stdout",
     "output_type": "stream",
     "text": [
      "Commonly used words in Non-Spam Emails\n"
     ]
    },
    {
     "data": {
      "text/plain": [
       "gt      317\n",
       "lt      315\n",
       "get     304\n",
       "ok      287\n",
       "go      252\n",
       "ll      248\n",
       "ur      247\n",
       "know    237\n",
       "call    236\n",
       "good    234\n",
       "dtype: int64"
      ]
     },
     "execution_count": 18,
     "metadata": {},
     "output_type": "execute_result"
    }
   ],
   "source": [
    "print('Commonly used words in Non-Spam Emails')\n",
    "get_word_list_and_count(df,ngram=1,category=0,max_number=10,remove_stopwords=True ,remove_numbers=False)"
   ]
  },
  {
   "cell_type": "code",
   "execution_count": 19,
   "metadata": {
    "colab": {
     "base_uri": "https://localhost:8080/"
    },
    "id": "I23et117tY_T",
    "outputId": "0747ac10-e6c1-469b-ed04-5a1648f202ba"
   },
   "outputs": [
    {
     "name": "stdout",
     "output_type": "stream",
     "text": [
      "Commonly used bigrams in Non-Spam Emails\n"
     ]
    },
    {
     "data": {
      "text/plain": [
       "lt gt       275\n",
       "are you     177\n",
       "you are      94\n",
       "do you       93\n",
       "if you       92\n",
       "in the       86\n",
       "want to      83\n",
       "going to     77\n",
       "have to      70\n",
       "to be        65\n",
       "dtype: int64"
      ]
     },
     "execution_count": 19,
     "metadata": {},
     "output_type": "execute_result"
    }
   ],
   "source": [
    "print('Commonly used bigrams in Non-Spam Emails')\n",
    "get_word_list_and_count(df,ngram=2,category=0,max_number=10,remove_stopwords=False,remove_numbers=False)"
   ]
  },
  {
   "cell_type": "code",
   "execution_count": 20,
   "metadata": {
    "colab": {
     "base_uri": "https://localhost:8080/"
    },
    "id": "JjWbbqz8tchZ",
    "outputId": "59683fc2-a7c6-4426-c99a-2cd645a81e70"
   },
   "outputs": [
    {
     "name": "stdout",
     "output_type": "stream",
     "text": [
      "Commonly used trigrams in Non-Spam Emails\n"
     ]
    },
    {
     "data": {
      "text/plain": [
       "ll call later     39\n",
       "sorry ll call     38\n",
       "how are you       37\n",
       "let me know       26\n",
       "lt decimal gt     23\n",
       "where are you     23\n",
       "hope you are      21\n",
       "when you re       20\n",
       "happy new year    18\n",
       "what are you      17\n",
       "dtype: int64"
      ]
     },
     "execution_count": 20,
     "metadata": {},
     "output_type": "execute_result"
    }
   ],
   "source": [
    "print('Commonly used trigrams in Non-Spam Emails')\n",
    "get_word_list_and_count(df,ngram=3,category=0,max_number=10,remove_stopwords=False,remove_numbers=False)"
   ]
  },
  {
   "cell_type": "markdown",
   "metadata": {
    "id": "Ic49WZt-_DiI"
   },
   "source": [
    "# **Data Preprocessing**"
   ]
  },
  {
   "cell_type": "code",
   "execution_count": 21,
   "metadata": {
    "colab": {
     "base_uri": "https://localhost:8080/"
    },
    "id": "ChVu4pO-_Gmm",
    "outputId": "c6c39081-8528-417c-bbe1-cba4c22dec8c"
   },
   "outputs": [
    {
     "name": "stdout",
     "output_type": "stream",
     "text": [
      "Column                 Number of Null Entries\n",
      "\n"
     ]
    },
    {
     "data": {
      "text/plain": [
       "category                          0\n",
       "content                           0\n",
       "number_of_contractions            0\n",
       "number_of_stopwords               0\n",
       "number_of_special_characters      0\n",
       "number_of_numerical_characters    0\n",
       "dtype: int64"
      ]
     },
     "execution_count": 21,
     "metadata": {},
     "output_type": "execute_result"
    }
   ],
   "source": [
    "print('Column                 Number of Null Entries')\n",
    "print()\n",
    "df.isnull().sum() #Ensuring that there are no empty entries"
   ]
  },
  {
   "cell_type": "code",
   "execution_count": 22,
   "metadata": {
    "id": "pcJ-zM5G_qjU"
   },
   "outputs": [],
   "source": [
    "def lemmatize(sentence):\n",
    "    wnl = WordNetLemmatizer()\n",
    "    sentence = sentence.split()\n",
    "    sentence = [wnl.lemmatize(word) for word in sentence]\n",
    "    sentence =  \" \".join(sentence)\n",
    "    return sentence\n",
    "\n",
    "def process_sentence_with_conditions(sentence,remove_stopwords=True,remove_contractions=True,\n",
    "                     remove_numbers = True,remove_special_char=True,lemmatize_sentence = True):\n",
    "    sentence = sentence.lower()\n",
    "\n",
    "    #these functions were defined earlier\n",
    "    if remove_stopwords:\n",
    "        sentence = remove_stopwords_f(sentence) \n",
    "\n",
    "    if remove_contractions:\n",
    "        sentence = remove_contractions_f(sentence)\n",
    "\n",
    "    if remove_numbers:\n",
    "        sentence = remove_numbers_f(sentence)\n",
    "        \n",
    "    if remove_special_char:\n",
    "        sentence = remove_special_char_f(sentence)\n",
    "    \n",
    "    if lemmatize_sentence:\n",
    "        sentence = lemmatize(sentence)\n",
    "\n",
    "    return sentence\n",
    "\n",
    "def process_sentence(sentence):\n",
    "    return process_sentence_with_conditions(sentence,True,True,True,True,True) #The conditions can be changed here"
   ]
  },
  {
   "cell_type": "markdown",
   "metadata": {
    "id": "b-mEpWedBPAd"
   },
   "source": [
    "Creating a Copy of df"
   ]
  },
  {
   "cell_type": "code",
   "execution_count": 23,
   "metadata": {
    "id": "m-fWgsGEAnkR"
   },
   "outputs": [],
   "source": [
    "df_c = df.copy()\n",
    "df_c.content = df_c.content.apply(process_sentence)  "
   ]
  },
  {
   "cell_type": "code",
   "execution_count": 24,
   "metadata": {
    "id": "4dbkYF2MBWGS"
   },
   "outputs": [],
   "source": [
    "features = ['content', 'number_of_special_characters',\n",
    "       'number_of_numerical_characters', 'number_of_contractions',\n",
    "       'number_of_stopwords']\n",
    "\n",
    "df_X_train,df_X_test,y_train,y_test = train_test_split(df_c[features],df_c.category,test_size=0.25)"
   ]
  },
  {
   "cell_type": "code",
   "execution_count": 25,
   "metadata": {
    "id": "nmjkxEGcBtAu"
   },
   "outputs": [],
   "source": [
    "m=1000 #Hyperparameter 1, number of words/features\n",
    "\n",
    "vectoriser = TfidfVectorizer(max_features=m)\n",
    "vectoriser.fit(df_X_train.content);"
   ]
  },
  {
   "cell_type": "code",
   "execution_count": 26,
   "metadata": {
    "id": "HqDOXtkVB_Jy"
   },
   "outputs": [],
   "source": [
    "def get_X(df_X,vectoriser,n_contractions=False,\n",
    "                         n_stopwords=False,n_numbers=False,n_special_char=False):\n",
    "    \n",
    "    X = vectoriser.transform(df_X.content).toarray()\n",
    "\n",
    "\n",
    "    if n_contractions == True:\n",
    "        num_contractions_array_train = np.reshape(df_X.number_of_contractions.values,(-1,1))\n",
    "        X = np.hstack((X,num_contractions_array_train))\n",
    "\n",
    "    if n_stopwords == True:\n",
    "        num_stopwords_array_train = np.reshape(df_X.number_of_stopwords.values,(-1,1))\n",
    "        X = np.hstack((X,num_stopwords_array_train))\n",
    "\n",
    "    if n_special_char == True:\n",
    "        num_special_array_train = np.reshape(df_X.number_of_special_characters.values,(-1,1))\n",
    "        X = np.hstack((X,num_special_array_train))\n",
    "        \n",
    "    if n_numbers == True:\n",
    "        num_numbers_array_train = np.reshape(df_X.number_of_numerical_characters.values,(-1,1))\n",
    "        X = np.hstack((X,num_numbers_array_train))\n",
    "       \n",
    "    return X  "
   ]
  },
  {
   "cell_type": "code",
   "execution_count": 27,
   "metadata": {
    "id": "l6341m5BKgPw"
   },
   "outputs": [],
   "source": [
    "#It can be chosen to include or exclude the following features\n",
    "include_number_of_contractions = False\n",
    "include_number_of_stopwords = False\n",
    "include_number_of_numericalchar = True\n",
    "include_number_of_specialchar = True"
   ]
  },
  {
   "cell_type": "code",
   "execution_count": 28,
   "metadata": {
    "id": "aqjGAPSyKpnR"
   },
   "outputs": [],
   "source": [
    "X_train = get_X(df_X_train,vectoriser,\n",
    "                include_number_of_contractions,include_number_of_stopwords,\n",
    "                include_number_of_numericalchar,include_number_of_specialchar)\n",
    "\n",
    "X_test = get_X(df_X_test,vectoriser,\n",
    "                include_number_of_contractions,include_number_of_stopwords,\n",
    "                include_number_of_numericalchar,include_number_of_specialchar)\n",
    "\n",
    "y_train,y_test = np.array(y_train),np.array(y_test)"
   ]
  },
  {
   "cell_type": "code",
   "execution_count": 29,
   "metadata": {
    "colab": {
     "base_uri": "https://localhost:8080/"
    },
    "id": "E4feDTVVK0fI",
    "outputId": "ae75bb30-016e-4e74-e191-7933ee8158a1"
   },
   "outputs": [
    {
     "name": "stdout",
     "output_type": "stream",
     "text": [
      "(4190, 1002)\n",
      "(1397, 1002)\n"
     ]
    }
   ],
   "source": [
    "print(X_train.shape)\n",
    "print(X_test.shape)"
   ]
  },
  {
   "cell_type": "markdown",
   "metadata": {
    "id": "wpXjWnGczvEm"
   },
   "source": [
    "### **PCA**"
   ]
  },
  {
   "cell_type": "code",
   "execution_count": 30,
   "metadata": {
    "id": "V-fvblGA1a-S"
   },
   "outputs": [],
   "source": [
    "def display_principleComponents(X,num_components=2):\n",
    "    #shape of X is (n,d)\n",
    "    n = len(X)\n",
    "\n",
    "    X_centered = X - X.mean(axis=0).reshape(1,-1)\n",
    "    C = (X_centered.T)@X_centered/n\n",
    "    w,V = np.linalg.eig(C)\n",
    "\n",
    "    principalComponents = X@V[:,:num_components]\n",
    "\n",
    "    plt.title('PCA on Training Data')\n",
    "    sc1 = plt.scatter(principalComponents[:,0],principalComponents[:,1],c=y_train,s=0.5)\n",
    "    plt.xlabel('Principal Component 1')\n",
    "    plt.ylabel('Principal Component 2')\n",
    "    plt.legend(*sc1.legend_elements())\n",
    "    plt.show()"
   ]
  },
  {
   "cell_type": "code",
   "execution_count": 31,
   "metadata": {
    "colab": {
     "base_uri": "https://localhost:8080/",
     "height": 295
    },
    "id": "AdA6DCQb0Ruf",
    "outputId": "09b7d902-13c0-446a-ef9b-c42f0dd9ef78"
   },
   "outputs": [
    {
     "data": {
      "image/png": "[encoded data removed]",
      "text/plain": [
       "<Figure size 432x288 with 1 Axes>"
      ]
     },
     "metadata": {
      "needs_background": "light"
     },
     "output_type": "display_data"
    }
   ],
   "source": [
    "display_principleComponents(X_train, num_components=2)"
   ]
  },
  {
   "cell_type": "markdown",
   "metadata": {
    "id": "RrHt7Jz6NJT6"
   },
   "source": [
    "# **Model Building**"
   ]
  },
  {
   "cell_type": "code",
   "execution_count": 32,
   "metadata": {
    "id": "B_SdW_7VNLR0"
   },
   "outputs": [],
   "source": [
    "def accuracy_score(y_true,y_preds):\n",
    "    return (y_true==y_preds).sum()/len(y_true)\n",
    "\n",
    "def access_model(clf,X,y):\n",
    "    y_preds = clf.predict(X)\n",
    "    print(\"Accuracy: %.4f\"%accuracy_score(y,y_preds))\n",
    "    print(\"\\nConfusion Matrix\")\n",
    "    cm = confusion_matrix(y,y_preds)\n",
    "    sns.heatmap(cm,cmap=\"Greens\",annot=True,fmt='g')\n",
    "    plt.xticks([])\n",
    "    plt.yticks([])\n",
    "    plt.show()"
   ]
  },
  {
   "cell_type": "markdown",
   "metadata": {
    "id": "1aVjQak9OP5A"
   },
   "source": [
    "### **SVM**"
   ]
  },
  {
   "cell_type": "code",
   "execution_count": 33,
   "metadata": {
    "id": "1RULRvqyPYEd"
   },
   "outputs": [],
   "source": [
    "from scipy.sparse import csr_matrix\n",
    "import numpy as np\n",
    "\n",
    "X_train_sparse = csr_matrix(X_train)\n",
    "X_test_sparse = csr_matrix(X_test)"
   ]
  },
  {
   "cell_type": "code",
   "execution_count": 34,
   "metadata": {
    "id": "YLK4bGT9OSCp"
   },
   "outputs": [],
   "source": [
    "from sklearn import svm\n",
    "from sklearn.metrics import confusion_matrix\n",
    "from sklearn.pipeline import make_pipeline\n",
    "from sklearn.preprocessing import StandardScaler\n"
   ]
  },
  {
   "cell_type": "markdown",
   "metadata": {
    "id": "dB8ImVxJP5rd"
   },
   "source": [
    "### **Hyperparameter Tuning**"
   ]
  },
  {
   "cell_type": "code",
   "execution_count": 35,
   "metadata": {
    "id": "UTid5k4LP8Ni"
   },
   "outputs": [],
   "source": [
    "parameters = {'kernel':['linear', 'rbf','poly'], 'C':[1,3,5],'gamma':['auto','scale']}\n",
    "\n",
    "history = {'parameters':[],'accuracy_train':[],'accuracy_test':[],'model':[]}\n",
    "for kernel in parameters['kernel']:\n",
    "    for C in parameters['C']:\n",
    "        for gamma in parameters['gamma']:\n",
    "            clf = make_pipeline(StandardScaler(with_mean=False), svm.SVC(kernel = kernel,gamma=gamma,C=C))\n",
    "            clf.fit(X_train_sparse, y_train)\n",
    "            parameter_comb = {\"kernel\":kernel,\"C\":C,\"gamma\":gamma}\n",
    "\n",
    "            accuracy_train = accuracy_score(y_train,clf.predict(X_train_sparse))\n",
    "            accuracy_test = accuracy_score(y_test,clf.predict(X_test_sparse))\n",
    "\n",
    "            \n",
    "            history['parameters'].append(parameter_comb)\n",
    "            history['accuracy_train'].append(accuracy_train)\n",
    "            history['accuracy_test'].append(accuracy_test)\n",
    "            history['model'].append(clf)"
   ]
  },
  {
   "cell_type": "code",
   "execution_count": 36,
   "metadata": {
    "id": "KEQmu4GnUtnF"
   },
   "outputs": [],
   "source": [
    "i = history['accuracy_test'].index(max(history['accuracy_test']))\n",
    "best_model = history['model'][i]"
   ]
  },
  {
   "cell_type": "code",
   "execution_count": 37,
   "metadata": {
    "colab": {
     "base_uri": "https://localhost:8080/"
    },
    "id": "CJ1QNQNdWaSH",
    "outputId": "b1bd9632-ebe2-45cc-965f-c44160ca9d63"
   },
   "outputs": [
    {
     "name": "stdout",
     "output_type": "stream",
     "text": [
      "Best Model Results\n",
      "Train Set Accuracy:  0.9988066825775657\n",
      "Test Set Accuracy: 0.9749463135289907\n",
      "{'kernel': 'rbf', 'C': 3, 'gamma': 'auto'}\n"
     ]
    }
   ],
   "source": [
    "print(\"Best Model Results\")\n",
    "print(\"Train Set Accuracy: \",history['accuracy_train'][i])\n",
    "print(\"Test Set Accuracy:\", history['accuracy_test'][i])\n",
    "print(history['parameters'][i])"
   ]
  },
  {
   "cell_type": "code",
   "execution_count": 38,
   "metadata": {
    "colab": {
     "base_uri": "https://localhost:8080/",
     "height": 640
    },
    "id": "64-8D5OKOY78",
    "outputId": "5259eb57-f93d-42d7-dde9-de4ca8d2fa0c"
   },
   "outputs": [
    {
     "name": "stdout",
     "output_type": "stream",
     "text": [
      "Train Data\n",
      "Accuracy: 0.9988\n",
      "\n",
      "Confusion Matrix\n"
     ]
    },
    {
     "data": {
      "image/png": "[encoded data removed]",
      "text/plain": [
       "<Figure size 432x288 with 2 Axes>"
      ]
     },
     "metadata": {
      "needs_background": "light"
     },
     "output_type": "display_data"
    },
    {
     "name": "stdout",
     "output_type": "stream",
     "text": [
      "**********\n",
      "Test Data\n",
      "Accuracy: 0.9749\n",
      "\n",
      "Confusion Matrix\n"
     ]
    },
    {
     "data": {
      "image/png": "[encoded data removed]",
      "text/plain": [
       "<Figure size 432x288 with 2 Axes>"
      ]
     },
     "metadata": {
      "needs_background": "light"
     },
     "output_type": "display_data"
    }
   ],
   "source": [
    "print(\"Train Data\")\n",
    "access_model(best_model,X_train,y_train)\n",
    "\n",
    "print(\"**********\")\n",
    "print('Test Data')\n",
    "access_model(best_model,X_test,y_test)"
   ]
  },
  {
   "cell_type": "markdown",
   "metadata": {
    "id": "SGkOMIFnVZnl"
   },
   "source": [
    "# **Testing on the Test Emails**"
   ]
  },
  {
   "cell_type": "code",
   "execution_count": 39,
   "metadata": {
    "id": "l2UhJx_kWAQT"
   },
   "outputs": [],
   "source": [
    "def get_number_of_words(content,words_list):\n",
    "\n",
    "    content_split = content.lower().split()\n",
    "    n_words = 0\n",
    "    for word in content_split:\n",
    "        if word in words_list:\n",
    "            n_words +=1\n",
    "    return n_words\n",
    "\n",
    "def get_sentence_to_features_vector(sentence):\n",
    "\n",
    "    n_of_contractions = get_number_of_words(sentence,contractions_list)\n",
    "    n_of_stopwords = get_number_of_words(sentence,stopwords_list)\n",
    "    n_of_special_char = len(re.findall(r\"[^a-zA-Z0-9\\s',.]+\",sentence))\n",
    "    n_of_numerical_char = len(re.findall(r'[0-9]+',sentence))\n",
    "    \n",
    "    processed_sentence = process_sentence(sentence)\n",
    "    features_vector = vectoriser.transform([sentence]).toarray()\n",
    "\n",
    "    if include_number_of_contractions:\n",
    "        features_vector =  np.hstack((features_vector,np.array([[n_of_contractions]])))\n",
    "        \n",
    "    if include_number_of_stopwords:\n",
    "        features_vector = np.hstack((features_vector,np.array([[n_of_stopwords]])))\n",
    "\n",
    "    if include_number_of_specialchar:\n",
    "        features_vector = np.hstack((features_vector,np.array([[n_of_special_char]])))\n",
    "\n",
    "    if include_number_of_numericalchar:\n",
    "        features_vector = np.hstack((features_vector,np.array([[n_of_numerical_char]])))\n",
    "    return features_vector\n",
    "\n",
    "#for testing an unseen dataframe with new mails \n",
    "def get_X_unseen(df_unseen):\n",
    "    X_unseen = []\n",
    "    for mail in df_unseen.content:\n",
    "        X_unseen.append(get_sentence_to_features_vector(mail))\n",
    "    \n",
    "    return np.squeeze(np.array(X_unseen))\n",
    "\n",
    "def test_input(model):\n",
    "    x0_vector = get_sentence_to_features_vector(input('Enter the Mail Content: '))\n",
    "    prediction = model.predict(x0_vector)\n",
    "    print('The Mail is',(1-prediction[0])*'NOT a spam mail'+prediction[0]*'a spam mail')"
   ]
  },
  {
   "cell_type": "markdown",
   "metadata": {
    "id": "jyEmEP1RIA57"
   },
   "source": [
    "### **Given Mails**"
   ]
  },
  {
   "cell_type": "code",
   "execution_count": 40,
   "metadata": {
    "colab": {
     "base_uri": "https://localhost:8080/"
    },
    "id": "ZNqJvB_oVi6T",
    "outputId": "f8cd95d2-d7b0-4619-9739-53805971bff8"
   },
   "outputs": [
    {
     "name": "stdout",
     "output_type": "stream",
     "text": [
      "test/email1.txt\n",
      "Dear Sir,\n",
      "\n",
      "PRML quiz was the first exam we have taken among all the other courses here at IIT Madras. We were not really sure about what kind of questions to expect either.\n",
      "\n",
      "I have received a lot of requests from my classmates to request you to increase the number of quizzes to 6 and make it best 4 out of 6. I have raised this issue in the CR meeting and they have told me to ask you.\n",
      "\n",
      "We would be really grateful if you could consider it.\n",
      "\n",
      "Thanks and regards\n",
      "\n",
      "****************\n",
      "test/email2.txt\n",
      "Dear Beneficiary,\n",
      "\n",
      "The United Nations Compensation Commission (UNCC) has approved to pay you a compensation amount of US$1,500,000 (One Million, Five Hundred Thousand United State Dollars) due to losses and damages suffered as to delayed foreign contract payment of individuals, firms, contractors, inheritance, next-of-kin, super hurricane Sandy and lottery beneficiaries that originated from Africa, Europe, Americas, Asia including the Middle East. Your approved Compensation package has been deposited in the \"Security Vault of SunWay Finance & Security company USA\" waiting for delivery. For identification and swift delivery of your compensation package, you are advice to contact Diplomat Ellis Gammon of SunWay Finance & Security company and re-confirm your delivery details: call Tel: +1 321 586 1802, E-mail: ellisgammon8@gmail.com\n",
      "\n",
      "1. Full Name:\n",
      "2. Delivery Address:\n",
      "3. Direct Phone Number:\n",
      "4. Nearest Airport:\n",
      "5. Age/Occupation:\n",
      "\n",
      "Congratulations on your payment approval\n",
      "\n",
      "Yours faithfully,\n",
      "Mrs. Jennifer Mcnichols.\n",
      "UNCC Compensation Coordinator.\n",
      "\n",
      "****************\n"
     ]
    }
   ],
   "source": [
    "for i in [1,2]:\n",
    "    filename = \"test/email{}.txt\".format(i)\n",
    "    f = open(filename,'r')\n",
    "    content = f.read()\n",
    "    content = rtf_to_text(content)\n",
    "    print(filename)\n",
    "    print(content)\n",
    "    print(\"****************\")\n",
    "    f.close()"
   ]
  },
  {
   "cell_type": "markdown",
   "metadata": {
    "id": "BcZL0Cm_IF6N"
   },
   "source": [
    "### **Custom Prepared Dataset**"
   ]
  },
  {
   "cell_type": "code",
   "execution_count": 41,
   "metadata": {
    "colab": {
     "base_uri": "https://localhost:8080/",
     "height": 1000
    },
    "id": "1RsqIfOY28zw",
    "outputId": "3a2dee08-f6f5-4ff5-dc38-f078a2886746"
   },
   "outputs": [
    {
     "data": {
      "text/html": [
       "<div>\n",
       "<style scoped>\n",
       "    .dataframe tbody tr th:only-of-type {\n",
       "        vertical-align: middle;\n",
       "    }\n",
       "\n",
       "    .dataframe tbody tr th {\n",
       "        vertical-align: top;\n",
       "    }\n",
       "\n",
       "    .dataframe thead th {\n",
       "        text-align: right;\n",
       "    }\n",
       "</style>\n",
       "<table border=\"1\" class=\"dataframe\">\n",
       "  <thead>\n",
       "    <tr style=\"text-align: right;\">\n",
       "      <th></th>\n",
       "      <th>category</th>\n",
       "      <th>content</th>\n",
       "    </tr>\n",
       "  </thead>\n",
       "  <tbody>\n",
       "    <tr>\n",
       "      <th>0</th>\n",
       "      <td>0</td>\n",
       "      <td>Hello Tushar,\\nI had a couple of doubts about ...</td>\n",
       "    </tr>\n",
       "    <tr>\n",
       "      <th>1</th>\n",
       "      <td>0</td>\n",
       "      <td>Sure Ma'am, that should be fine. A small corre...</td>\n",
       "    </tr>\n",
       "    <tr>\n",
       "      <th>2</th>\n",
       "      <td>0</td>\n",
       "      <td>Respected sir,\\nI had a few doubts about assig...</td>\n",
       "    </tr>\n",
       "    <tr>\n",
       "      <th>3</th>\n",
       "      <td>0</td>\n",
       "      <td>Dear student,\\n\\n \\n\\nThank you for your email...</td>\n",
       "    </tr>\n",
       "    <tr>\n",
       "      <th>4</th>\n",
       "      <td>0</td>\n",
       "      <td>Respected sir,\\nI am a student that stayed in ...</td>\n",
       "    </tr>\n",
       "    <tr>\n",
       "      <th>5</th>\n",
       "      <td>0</td>\n",
       "      <td>Hi Tushar,\\nI am , a student of the CS5691: Pa...</td>\n",
       "    </tr>\n",
       "    <tr>\n",
       "      <th>6</th>\n",
       "      <td>0</td>\n",
       "      <td>Hello ,\\nI am not having problem set/materials...</td>\n",
       "    </tr>\n",
       "    <tr>\n",
       "      <th>7</th>\n",
       "      <td>0</td>\n",
       "      <td>Dear ,\\n\\nThank you for your interest in this ...</td>\n",
       "    </tr>\n",
       "    <tr>\n",
       "      <th>8</th>\n",
       "      <td>0</td>\n",
       "      <td>Respected Sir,\\nI am a 3rd-year engineering st...</td>\n",
       "    </tr>\n",
       "    <tr>\n",
       "      <th>9</th>\n",
       "      <td>0</td>\n",
       "      <td>I am Bikash Gupta ME design student. We both ...</td>\n",
       "    </tr>\n",
       "    <tr>\n",
       "      <th>10</th>\n",
       "      <td>0</td>\n",
       "      <td>Hey Bikash!\\nNo, there is no WhatsApp group fo...</td>\n",
       "    </tr>\n",
       "    <tr>\n",
       "      <th>11</th>\n",
       "      <td>0</td>\n",
       "      <td>Respected Ma'am and Sir,\\nHope you are doing f...</td>\n",
       "    </tr>\n",
       "    <tr>\n",
       "      <th>12</th>\n",
       "      <td>0</td>\n",
       "      <td>Dear students, \\nWe have not heard from you bo...</td>\n",
       "    </tr>\n",
       "    <tr>\n",
       "      <th>13</th>\n",
       "      <td>0</td>\n",
       "      <td>Respected Sir/Ma'am,\\nI am presently a 3rd yea...</td>\n",
       "    </tr>\n",
       "    <tr>\n",
       "      <th>14</th>\n",
       "      <td>0</td>\n",
       "      <td>Respected Sir,\\nI am a student passionate abou...</td>\n",
       "    </tr>\n",
       "    <tr>\n",
       "      <th>15</th>\n",
       "      <td>0</td>\n",
       "      <td>Respected Sir/Ma'am,\\nI am a student passionat...</td>\n",
       "    </tr>\n",
       "    <tr>\n",
       "      <th>16</th>\n",
       "      <td>0</td>\n",
       "      <td>Hey there Mech Junta…\\n\\n \\n\\nGreetings from E...</td>\n",
       "    </tr>\n",
       "    <tr>\n",
       "      <th>17</th>\n",
       "      <td>0</td>\n",
       "      <td>Dear Students,\\n\\nGreetings!\\n\\n11 COVID-19 ca...</td>\n",
       "    </tr>\n",
       "    <tr>\n",
       "      <th>18</th>\n",
       "      <td>0</td>\n",
       "      <td>Dear All Students,\\n\\nGreetings. Since the las...</td>\n",
       "    </tr>\n",
       "    <tr>\n",
       "      <th>19</th>\n",
       "      <td>0</td>\n",
       "      <td>Dear Students,\\n\\nThe last date for online cou...</td>\n",
       "    </tr>\n",
       "    <tr>\n",
       "      <th>20</th>\n",
       "      <td>0</td>\n",
       "      <td>Dear ME7225 Class,\\nOn account of the missed c...</td>\n",
       "    </tr>\n",
       "    <tr>\n",
       "      <th>21</th>\n",
       "      <td>0</td>\n",
       "      <td>Greetings!\\n           Please submit the repor...</td>\n",
       "    </tr>\n",
       "    <tr>\n",
       "      <th>22</th>\n",
       "      <td>0</td>\n",
       "      <td>Dear Insti Junta,\\n\\nGreetings from  the Media...</td>\n",
       "    </tr>\n",
       "    <tr>\n",
       "      <th>23</th>\n",
       "      <td>0</td>\n",
       "      <td>Dear Sir,\\nI am a student of your course CS569...</td>\n",
       "    </tr>\n",
       "    <tr>\n",
       "      <th>24</th>\n",
       "      <td>0</td>\n",
       "      <td>Respected Sir,\\nThis is presently in the 6th s...</td>\n",
       "    </tr>\n",
       "    <tr>\n",
       "      <th>25</th>\n",
       "      <td>0</td>\n",
       "      <td>Respected Sir,\\nI am presently a 3rd-year engi...</td>\n",
       "    </tr>\n",
       "    <tr>\n",
       "      <th>26</th>\n",
       "      <td>0</td>\n",
       "      <td>Respected sir,\\nI am , presently a 3rd year en...</td>\n",
       "    </tr>\n",
       "    <tr>\n",
       "      <th>27</th>\n",
       "      <td>0</td>\n",
       "      <td>Respected Sir,\\nEagerly awaiting your response...</td>\n",
       "    </tr>\n",
       "    <tr>\n",
       "      <th>28</th>\n",
       "      <td>0</td>\n",
       "      <td>Dear , \\n\\nWe do not have such restrictions in...</td>\n",
       "    </tr>\n",
       "    <tr>\n",
       "      <th>29</th>\n",
       "      <td>0</td>\n",
       "      <td>Respected Sir/Ma'am,\\n\\n \\n\\nI am   N, present...</td>\n",
       "    </tr>\n",
       "    <tr>\n",
       "      <th>30</th>\n",
       "      <td>0</td>\n",
       "      <td>Hi bro,\\nI am  (classmate in RL course). I was...</td>\n",
       "    </tr>\n",
       "    <tr>\n",
       "      <th>31</th>\n",
       "      <td>0</td>\n",
       "      <td>Respected Sir,\\nI am  , presently a 3rd year e...</td>\n",
       "    </tr>\n",
       "    <tr>\n",
       "      <th>32</th>\n",
       "      <td>0</td>\n",
       "      <td>Respected Sir,\\nI am   N , presently a 3rd eng...</td>\n",
       "    </tr>\n",
       "    <tr>\n",
       "      <th>33</th>\n",
       "      <td>0</td>\n",
       "      <td>Dear Sir,\\n\\nGood afternoon.\\n\\nThe email rece...</td>\n",
       "    </tr>\n",
       "    <tr>\n",
       "      <th>34</th>\n",
       "      <td>0</td>\n",
       "      <td>Dear Sir / Madam,\\n\\nThe email received from M...</td>\n",
       "    </tr>\n",
       "    <tr>\n",
       "      <th>35</th>\n",
       "      <td>0</td>\n",
       "      <td>Respected Ma'am,\\nI hope this mail finds you i...</td>\n",
       "    </tr>\n",
       "    <tr>\n",
       "      <th>36</th>\n",
       "      <td>0</td>\n",
       "      <td>Respected Sir/Ma'am,\\nI am  , presently a 3rd ...</td>\n",
       "    </tr>\n",
       "    <tr>\n",
       "      <th>37</th>\n",
       "      <td>0</td>\n",
       "      <td>Respected Sir,\\nI am   N  presently in my 5th ...</td>\n",
       "    </tr>\n",
       "    <tr>\n",
       "      <th>38</th>\n",
       "      <td>0</td>\n",
       "      <td>Respected Sir,\\nI hope you could go through my...</td>\n",
       "    </tr>\n",
       "    <tr>\n",
       "      <th>39</th>\n",
       "      <td>0</td>\n",
       "      <td>Respected sir,\\n\\nI am  , presently a 3rd year...</td>\n",
       "    </tr>\n",
       "    <tr>\n",
       "      <th>40</th>\n",
       "      <td>0</td>\n",
       "      <td>Dear Sir/Madam,\\n\\nPlease find attached an ema...</td>\n",
       "    </tr>\n",
       "    <tr>\n",
       "      <th>41</th>\n",
       "      <td>0</td>\n",
       "      <td>Respected sir,\\n\\nHope you are doing well.\\n\\n...</td>\n",
       "    </tr>\n",
       "    <tr>\n",
       "      <th>42</th>\n",
       "      <td>0</td>\n",
       "      <td>Hi Aditya,\\n\\nI may not be able to join on sat...</td>\n",
       "    </tr>\n",
       "    <tr>\n",
       "      <th>43</th>\n",
       "      <td>0</td>\n",
       "      <td>Hi Sushant,\\n\\nCan I know when we would receiv...</td>\n",
       "    </tr>\n",
       "    <tr>\n",
       "      <th>44</th>\n",
       "      <td>0</td>\n",
       "      <td>Respected Sir,\\n\\nI am   , a student of the co...</td>\n",
       "    </tr>\n",
       "    <tr>\n",
       "      <th>45</th>\n",
       "      <td>0</td>\n",
       "      <td>Hi Sir,\\n\\nThis is , one of the selected inter...</td>\n",
       "    </tr>\n",
       "    <tr>\n",
       "      <th>46</th>\n",
       "      <td>0</td>\n",
       "      <td>Dear Candidate, \\n\\nWe have allocated your sum...</td>\n",
       "    </tr>\n",
       "    <tr>\n",
       "      <th>47</th>\n",
       "      <td>0</td>\n",
       "      <td>Hi Sir,\\n\\nI would just like to mention that I...</td>\n",
       "    </tr>\n",
       "    <tr>\n",
       "      <th>48</th>\n",
       "      <td>0</td>\n",
       "      <td>Hello,\\n\\nI am   N, a student of CH5019 course...</td>\n",
       "    </tr>\n",
       "    <tr>\n",
       "      <th>49</th>\n",
       "      <td>0</td>\n",
       "      <td>Dear All- Thanks for joining in today's sessio...</td>\n",
       "    </tr>\n",
       "    <tr>\n",
       "      <th>50</th>\n",
       "      <td>0</td>\n",
       "      <td>Dear Insti,\\n\\nAs we finally settle into the o...</td>\n",
       "    </tr>\n",
       "    <tr>\n",
       "      <th>51</th>\n",
       "      <td>1</td>\n",
       "      <td>Looking to build an exciting career in a major...</td>\n",
       "    </tr>\n",
       "    <tr>\n",
       "      <th>52</th>\n",
       "      <td>1</td>\n",
       "      <td>Dear Subscriber\\nYour account has been comprom...</td>\n",
       "    </tr>\n",
       "    <tr>\n",
       "      <th>53</th>\n",
       "      <td>1</td>\n",
       "      <td>Congratulations, you have been picked among 10...</td>\n",
       "    </tr>\n",
       "    <tr>\n",
       "      <th>54</th>\n",
       "      <td>1</td>\n",
       "      <td>Dear Customer,\\nYour bank account has been hac...</td>\n",
       "    </tr>\n",
       "    <tr>\n",
       "      <th>55</th>\n",
       "      <td>1</td>\n",
       "      <td>Dear Customer,\\nYour email id for the bank acc...</td>\n",
       "    </tr>\n",
       "    <tr>\n",
       "      <th>56</th>\n",
       "      <td>1</td>\n",
       "      <td>Hello Chetan,\\nYou have WON a brand new apple ...</td>\n",
       "    </tr>\n",
       "  </tbody>\n",
       "</table>\n",
       "</div>"
      ],
      "text/plain": [
       "    category                                            content\n",
       "0          0  Hello Tushar,\\nI had a couple of doubts about ...\n",
       "1          0  Sure Ma'am, that should be fine. A small corre...\n",
       "2          0  Respected sir,\\nI had a few doubts about assig...\n",
       "3          0  Dear student,\\n\\n \\n\\nThank you for your email...\n",
       "4          0  Respected sir,\\nI am a student that stayed in ...\n",
       "5          0  Hi Tushar,\\nI am , a student of the CS5691: Pa...\n",
       "6          0  Hello ,\\nI am not having problem set/materials...\n",
       "7          0  Dear ,\\n\\nThank you for your interest in this ...\n",
       "8          0  Respected Sir,\\nI am a 3rd-year engineering st...\n",
       "9          0   I am Bikash Gupta ME design student. We both ...\n",
       "10         0  Hey Bikash!\\nNo, there is no WhatsApp group fo...\n",
       "11         0  Respected Ma'am and Sir,\\nHope you are doing f...\n",
       "12         0  Dear students, \\nWe have not heard from you bo...\n",
       "13         0  Respected Sir/Ma'am,\\nI am presently a 3rd yea...\n",
       "14         0  Respected Sir,\\nI am a student passionate abou...\n",
       "15         0  Respected Sir/Ma'am,\\nI am a student passionat...\n",
       "16         0  Hey there Mech Junta…\\n\\n \\n\\nGreetings from E...\n",
       "17         0  Dear Students,\\n\\nGreetings!\\n\\n11 COVID-19 ca...\n",
       "18         0  Dear All Students,\\n\\nGreetings. Since the las...\n",
       "19         0  Dear Students,\\n\\nThe last date for online cou...\n",
       "20         0  Dear ME7225 Class,\\nOn account of the missed c...\n",
       "21         0  Greetings!\\n           Please submit the repor...\n",
       "22         0  Dear Insti Junta,\\n\\nGreetings from  the Media...\n",
       "23         0  Dear Sir,\\nI am a student of your course CS569...\n",
       "24         0  Respected Sir,\\nThis is presently in the 6th s...\n",
       "25         0  Respected Sir,\\nI am presently a 3rd-year engi...\n",
       "26         0  Respected sir,\\nI am , presently a 3rd year en...\n",
       "27         0  Respected Sir,\\nEagerly awaiting your response...\n",
       "28         0  Dear , \\n\\nWe do not have such restrictions in...\n",
       "29         0  Respected Sir/Ma'am,\\n\\n \\n\\nI am   N, present...\n",
       "30         0  Hi bro,\\nI am  (classmate in RL course). I was...\n",
       "31         0  Respected Sir,\\nI am  , presently a 3rd year e...\n",
       "32         0  Respected Sir,\\nI am   N , presently a 3rd eng...\n",
       "33         0  Dear Sir,\\n\\nGood afternoon.\\n\\nThe email rece...\n",
       "34         0  Dear Sir / Madam,\\n\\nThe email received from M...\n",
       "35         0  Respected Ma'am,\\nI hope this mail finds you i...\n",
       "36         0  Respected Sir/Ma'am,\\nI am  , presently a 3rd ...\n",
       "37         0  Respected Sir,\\nI am   N  presently in my 5th ...\n",
       "38         0  Respected Sir,\\nI hope you could go through my...\n",
       "39         0  Respected sir,\\n\\nI am  , presently a 3rd year...\n",
       "40         0  Dear Sir/Madam,\\n\\nPlease find attached an ema...\n",
       "41         0  Respected sir,\\n\\nHope you are doing well.\\n\\n...\n",
       "42         0  Hi Aditya,\\n\\nI may not be able to join on sat...\n",
       "43         0  Hi Sushant,\\n\\nCan I know when we would receiv...\n",
       "44         0  Respected Sir,\\n\\nI am   , a student of the co...\n",
       "45         0  Hi Sir,\\n\\nThis is , one of the selected inter...\n",
       "46         0  Dear Candidate, \\n\\nWe have allocated your sum...\n",
       "47         0  Hi Sir,\\n\\nI would just like to mention that I...\n",
       "48         0  Hello,\\n\\nI am   N, a student of CH5019 course...\n",
       "49         0  Dear All- Thanks for joining in today's sessio...\n",
       "50         0  Dear Insti,\\n\\nAs we finally settle into the o...\n",
       "51         1  Looking to build an exciting career in a major...\n",
       "52         1  Dear Subscriber\\nYour account has been comprom...\n",
       "53         1  Congratulations, you have been picked among 10...\n",
       "54         1  Dear Customer,\\nYour bank account has been hac...\n",
       "55         1  Dear Customer,\\nYour email id for the bank acc...\n",
       "56         1  Hello Chetan,\\nYou have WON a brand new apple ..."
      ]
     },
     "execution_count": 41,
     "metadata": {},
     "output_type": "execute_result"
    }
   ],
   "source": [
    "custom_df = pd.read_csv(\"custom_test_data.csv\")\n",
    "custom_df"
   ]
  },
  {
   "cell_type": "code",
   "execution_count": 42,
   "metadata": {
    "id": "WPCZfaut3Hsd"
   },
   "outputs": [],
   "source": [
    "X_unseen = get_X_unseen(custom_df)"
   ]
  },
  {
   "cell_type": "code",
   "execution_count": 43,
   "metadata": {
    "colab": {
     "base_uri": "https://localhost:8080/"
    },
    "id": "WA71ggEF3WIX",
    "outputId": "d569ae42-2c19-4b92-973f-23dff42ec788"
   },
   "outputs": [
    {
     "data": {
      "text/plain": [
       "array([0, 0, 0, 0, 0, 0, 0, 0, 0, 0, 0, 0, 0, 0, 0, 0, 0, 0, 0, 0, 0, 0,\n",
       "       0, 0, 0, 0, 0, 0, 0, 0, 0, 0, 0, 0, 0, 0, 0, 0, 0, 0, 0, 0, 0, 0,\n",
       "       0, 0, 0, 0, 0, 0, 0, 0, 1, 0, 1, 0, 1])"
      ]
     },
     "execution_count": 43,
     "metadata": {},
     "output_type": "execute_result"
    }
   ],
   "source": [
    "y_preds_unseen = (clf.predict(X_unseen))\n",
    "y_preds_unseen"
   ]
  },
  {
   "cell_type": "code",
   "execution_count": 44,
   "metadata": {
    "colab": {
     "base_uri": "https://localhost:8080/"
    },
    "id": "WU_6tklP6s8C",
    "outputId": "6714d600-53ed-483a-da28-a773de78eada"
   },
   "outputs": [
    {
     "data": {
      "text/plain": [
       "0.9473684210526315"
      ]
     },
     "execution_count": 44,
     "metadata": {},
     "output_type": "execute_result"
    }
   ],
   "source": [
    "accuracy_score(custom_df.category,y_preds_unseen)"
   ]
  },
  {
   "cell_type": "markdown",
   "metadata": {
    "id": "YuGcEGLbIytE"
   },
   "source": [
    "### **Run this section to read the emails in test folder**\n",
    "For it to work, the trained model should be available, run all the cells above to run this cell"
   ]
  },
  {
   "cell_type": "code",
   "execution_count": 45,
   "metadata": {
    "id": "s-kiuoIDI9uA"
   },
   "outputs": [],
   "source": [
    "import os\n",
    "def get_predictions(model):\n",
    "    email_names = os.listdir('./test')\n",
    "    predictions = []\n",
    "    for filename in email_names:\n",
    "        if \"email\" in filename:\n",
    "            f = open(\"test/\"+filename,'r')\n",
    "            content = f.read()\n",
    "            content = rtf_to_text(content)\n",
    "            f.close()   \n",
    "            x0_vector = get_sentence_to_features_vector(content)\n",
    "            prediction = model.predict(x0_vector).item()\n",
    "            predictions.append(prediction)\n",
    "        else:\n",
    "            print(\"Invalid File Name: \",filename)\n",
    "    return predictions"
   ]
  },
  {
   "cell_type": "code",
   "execution_count": 46,
   "metadata": {
    "colab": {
     "base_uri": "https://localhost:8080/"
    },
    "id": "u8dQeIBPJ8sW",
    "outputId": "d96a83fd-644b-491a-e2a6-6eec8dec3159"
   },
   "outputs": [
    {
     "name": "stdout",
     "output_type": "stream",
     "text": [
      "Invalid File Name:  .DS_Store\n"
     ]
    },
    {
     "data": {
      "text/plain": [
       "[0, 0]"
      ]
     },
     "execution_count": 46,
     "metadata": {},
     "output_type": "execute_result"
    }
   ],
   "source": [
    "get_predictions(best_model)"
   ]
  }
 ],
 "metadata": {
  "colab": {
   "name": "Assignment3_ME19B093.ipynb",
   "provenance": []
  },
  "kernelspec": {
   "display_name": "Python 3 (ipykernel)",
   "language": "python",
   "name": "python3"
  },
  "language_info": {
   "codemirror_mode": {
    "name": "ipython",
    "version": 3
   },
   "file_extension": ".py",
   "mimetype": "text/x-python",
   "name": "python",
   "nbconvert_exporter": "python",
   "pygments_lexer": "ipython3",
   "version": "3.7.11"
  }
 },
 "nbformat": 4,
 "nbformat_minor": 1
}
